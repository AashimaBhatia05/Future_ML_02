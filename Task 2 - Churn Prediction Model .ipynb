{
 "cells": [
  {
   "cell_type": "markdown",
   "id": "c7de9ee7-8fe8-4f40-bd9d-456e1c257a4e",
   "metadata": {},
   "source": [
    "### Importing Libraries "
   ]
  },
  {
   "cell_type": "code",
   "execution_count": 2,
   "id": "1636576a-a24c-410f-a1f1-8261e80cd881",
   "metadata": {},
   "outputs": [],
   "source": [
    "import pandas as pd\n",
    "import numpy as np\n",
    "from sklearn.model_selection import train_test_split, cross_val_score, StratifiedKFold\n",
    "from sklearn.preprocessing import StandardScaler, OneHotEncoder\n",
    "from sklearn.compose import ColumnTransformer\n",
    "from sklearn.pipeline import Pipeline\n",
    "from sklearn.tree import DecisionTreeClassifier\n",
    "from sklearn.ensemble import RandomForestClassifier\n",
    "from sklearn.metrics import classification_report, confusion_matrix, roc_auc_score, roc_curve\n",
    "from imblearn.over_sampling import SMOTE\n",
    "from imblearn.pipeline import Pipeline as ImbPipeline \n",
    "import xgboost as xgb\n",
    "import matplotlib.pyplot as plt\n",
    "import seaborn as sns\n",
    "import pickle\n",
    "import warnings \n",
    "warnings.filterwarnings(\"ignore\")"
   ]
  },
  {
   "cell_type": "markdown",
   "id": "aecb3b7f-62a4-4520-963d-ef120fc1c816",
   "metadata": {},
   "source": [
    "### Loading Data"
   ]
  },
  {
   "cell_type": "code",
   "execution_count": 4,
   "id": "42a32357-f798-4c91-8f9d-9bef2bb821a6",
   "metadata": {},
   "outputs": [
    {
     "name": "stdout",
     "output_type": "stream",
     "text": [
      "Spotify data loaded successfully.\n"
     ]
    }
   ],
   "source": [
    "df = pd.read_csv('Spotify_data.csv')\n",
    "print(\"Spotify data loaded successfully.\")"
   ]
  },
  {
   "cell_type": "code",
   "execution_count": 5,
   "id": "3bb62c43-1e76-4977-8756-b978d5c1ac97",
   "metadata": {},
   "outputs": [
    {
     "name": "stdout",
     "output_type": "stream",
     "text": [
      "     Age  Gender spotify_usage_period  \\\n",
      "0  20-35  Female    More than 2 years   \n",
      "1  12-20    Male    More than 2 years   \n",
      "2  35-60  Others   6 months to 1 year   \n",
      "3  20-35  Female    1 year to 2 years   \n",
      "4  20-35  Female    1 year to 2 years   \n",
      "\n",
      "                         spotify_listening_device spotify_subscription_plan  \\\n",
      "0              Smart speakers or voice assistants       Free (ad-supported)   \n",
      "1                              Computer or laptop       Free (ad-supported)   \n",
      "2              Smart speakers or voice assistants       Free (ad-supported)   \n",
      "3  Smartphone, Smart speakers or voice assistants       Free (ad-supported)   \n",
      "4                                      Smartphone       Free (ad-supported)   \n",
      "\n",
      "  premium_sub_willingness          preffered_premium_plan  \\\n",
      "0                     Yes        Family Plan-Rs 179/month   \n",
      "1                     Yes  Individual Plan- Rs 119/ month   \n",
      "2                     Yes        Student Plan-Rs 59/month   \n",
      "3                      No                             NaN   \n",
      "4                      No                             NaN   \n",
      "\n",
      "  preferred_listening_content fav_music_genre music_time_slot  \\\n",
      "0                     Podcast          Melody           Night   \n",
      "1                     Podcast             Rap       Afternoon   \n",
      "2                     Podcast             Pop           Night   \n",
      "3                       Music          Melody           Night   \n",
      "4                       Music          Melody           Night   \n",
      "\n",
      "                              music_Influencial_mood  \\\n",
      "0                              Sadness or melancholy   \n",
      "1                       Social gatherings or parties   \n",
      "2                       Relaxation and stress relief   \n",
      "3  Relaxation and stress relief, Social gathering...   \n",
      "4                       Relaxation and stress relief   \n",
      "\n",
      "                           music_lis_frequency           music_expl_method  \\\n",
      "0                                 leisure time                   Playlists   \n",
      "1                              Workout session                   Playlists   \n",
      "2                 Study Hours, While Traveling                   Playlists   \n",
      "3  Office hours, Workout session, leisure time  recommendations, Playlists   \n",
      "4                                 leisure time  recommendations, Playlists   \n",
      "\n",
      "   music_recc_rating     pod_lis_frequency         fav_pod_genre  \\\n",
      "0                  3                 Daily                Comedy   \n",
      "1                  2  Several times a week                Comedy   \n",
      "2                  4           Once a week                Sports   \n",
      "3                  4                 Never                   NaN   \n",
      "4                  4                Rarely  Lifestyle and Health   \n",
      "\n",
      "  preffered_pod_format     pod_host_preference preffered_pod_duration  \\\n",
      "0            Interview                    Both                   Both   \n",
      "1            Interview                    Both                    NaN   \n",
      "2            Interview                     NaN                   Both   \n",
      "3                  NaN                     NaN                    NaN   \n",
      "4        Story telling  Well known individuals                   Both   \n",
      "\n",
      "  pod_variety_satisfaction  \n",
      "0                       Ok  \n",
      "1                Satisfied  \n",
      "2                Satisfied  \n",
      "3                       Ok  \n",
      "4                       Ok  \n",
      "\n",
      "Data Info:\n",
      "<class 'pandas.core.frame.DataFrame'>\n",
      "RangeIndex: 520 entries, 0 to 519\n",
      "Data columns (total 20 columns):\n",
      " #   Column                       Non-Null Count  Dtype \n",
      "---  ------                       --------------  ----- \n",
      " 0   Age                          520 non-null    object\n",
      " 1   Gender                       520 non-null    object\n",
      " 2   spotify_usage_period         520 non-null    object\n",
      " 3   spotify_listening_device     520 non-null    object\n",
      " 4   spotify_subscription_plan    520 non-null    object\n",
      " 5   premium_sub_willingness      520 non-null    object\n",
      " 6   preffered_premium_plan       312 non-null    object\n",
      " 7   preferred_listening_content  520 non-null    object\n",
      " 8   fav_music_genre              520 non-null    object\n",
      " 9   music_time_slot              520 non-null    object\n",
      " 10  music_Influencial_mood       520 non-null    object\n",
      " 11  music_lis_frequency          520 non-null    object\n",
      " 12  music_expl_method            520 non-null    object\n",
      " 13  music_recc_rating            520 non-null    int64 \n",
      " 14  pod_lis_frequency            520 non-null    object\n",
      " 15  fav_pod_genre                372 non-null    object\n",
      " 16  preffered_pod_format         380 non-null    object\n",
      " 17  pod_host_preference          379 non-null    object\n",
      " 18  preffered_pod_duration       391 non-null    object\n",
      " 19  pod_variety_satisfaction     520 non-null    object\n",
      "dtypes: int64(1), object(19)\n",
      "memory usage: 81.4+ KB\n"
     ]
    }
   ],
   "source": [
    "print(df.head())\n",
    "print(\"\\nData Info:\")\n",
    "df.info()"
   ]
  },
  {
   "cell_type": "code",
   "execution_count": 6,
   "id": "6d08bc15-148e-43b7-8577-a41c74d5e67b",
   "metadata": {},
   "outputs": [
    {
     "data": {
      "text/html": [
       "<div>\n",
       "<style scoped>\n",
       "    .dataframe tbody tr th:only-of-type {\n",
       "        vertical-align: middle;\n",
       "    }\n",
       "\n",
       "    .dataframe tbody tr th {\n",
       "        vertical-align: top;\n",
       "    }\n",
       "\n",
       "    .dataframe thead th {\n",
       "        text-align: right;\n",
       "    }\n",
       "</style>\n",
       "<table border=\"1\" class=\"dataframe\">\n",
       "  <thead>\n",
       "    <tr style=\"text-align: right;\">\n",
       "      <th></th>\n",
       "      <th>Age</th>\n",
       "      <th>Gender</th>\n",
       "      <th>spotify_usage_period</th>\n",
       "      <th>spotify_listening_device</th>\n",
       "      <th>spotify_subscription_plan</th>\n",
       "      <th>premium_sub_willingness</th>\n",
       "      <th>preffered_premium_plan</th>\n",
       "      <th>preferred_listening_content</th>\n",
       "      <th>fav_music_genre</th>\n",
       "      <th>music_time_slot</th>\n",
       "      <th>music_Influencial_mood</th>\n",
       "      <th>music_lis_frequency</th>\n",
       "      <th>music_expl_method</th>\n",
       "      <th>music_recc_rating</th>\n",
       "      <th>pod_lis_frequency</th>\n",
       "      <th>fav_pod_genre</th>\n",
       "      <th>preffered_pod_format</th>\n",
       "      <th>pod_host_preference</th>\n",
       "      <th>preffered_pod_duration</th>\n",
       "      <th>pod_variety_satisfaction</th>\n",
       "    </tr>\n",
       "  </thead>\n",
       "  <tbody>\n",
       "    <tr>\n",
       "      <th>515</th>\n",
       "      <td>20-35</td>\n",
       "      <td>Female</td>\n",
       "      <td>More than 2 years</td>\n",
       "      <td>Smartphone, Computer or laptop, Wearable devices</td>\n",
       "      <td>Free (ad-supported)</td>\n",
       "      <td>Yes</td>\n",
       "      <td>Student Plan-Rs 59/month</td>\n",
       "      <td>Music</td>\n",
       "      <td>Pop</td>\n",
       "      <td>Morning</td>\n",
       "      <td>Uplifting and motivational, Sadness or melancholy</td>\n",
       "      <td>While Traveling</td>\n",
       "      <td>recommendations</td>\n",
       "      <td>5</td>\n",
       "      <td>Rarely</td>\n",
       "      <td>Lifestyle and Health</td>\n",
       "      <td>Conversational</td>\n",
       "      <td>Both</td>\n",
       "      <td>Shorter</td>\n",
       "      <td>Ok</td>\n",
       "    </tr>\n",
       "    <tr>\n",
       "      <th>516</th>\n",
       "      <td>20-35</td>\n",
       "      <td>Female</td>\n",
       "      <td>More than 2 years</td>\n",
       "      <td>Smartphone, Computer or laptop</td>\n",
       "      <td>Free (ad-supported)</td>\n",
       "      <td>Yes</td>\n",
       "      <td>Student Plan-Rs 59/month</td>\n",
       "      <td>Music</td>\n",
       "      <td>Pop</td>\n",
       "      <td>Night</td>\n",
       "      <td>Relaxation and stress relief, Uplifting and mo...</td>\n",
       "      <td>While Traveling, Workout session, leisure time</td>\n",
       "      <td>Others</td>\n",
       "      <td>2</td>\n",
       "      <td>Rarely</td>\n",
       "      <td>Comedy</td>\n",
       "      <td>Story telling</td>\n",
       "      <td>Both</td>\n",
       "      <td>Shorter</td>\n",
       "      <td>Ok</td>\n",
       "    </tr>\n",
       "    <tr>\n",
       "      <th>517</th>\n",
       "      <td>20-35</td>\n",
       "      <td>Female</td>\n",
       "      <td>More than 2 years</td>\n",
       "      <td>Smartphone</td>\n",
       "      <td>Free (ad-supported)</td>\n",
       "      <td>No</td>\n",
       "      <td>Student Plan-Rs 59/month</td>\n",
       "      <td>Music</td>\n",
       "      <td>Pop</td>\n",
       "      <td>Night</td>\n",
       "      <td>Relaxation and stress relief</td>\n",
       "      <td>leisure time</td>\n",
       "      <td>recommendations</td>\n",
       "      <td>3</td>\n",
       "      <td>Never</td>\n",
       "      <td>NaN</td>\n",
       "      <td>Story telling</td>\n",
       "      <td>Both</td>\n",
       "      <td>Shorter</td>\n",
       "      <td>Ok</td>\n",
       "    </tr>\n",
       "    <tr>\n",
       "      <th>518</th>\n",
       "      <td>20-35</td>\n",
       "      <td>Female</td>\n",
       "      <td>6 months to 1 year</td>\n",
       "      <td>Smartphone</td>\n",
       "      <td>Premium (paid subscription)</td>\n",
       "      <td>Yes</td>\n",
       "      <td>Individual Plan- Rs 119/ month</td>\n",
       "      <td>Music</td>\n",
       "      <td>Melody</td>\n",
       "      <td>Night</td>\n",
       "      <td>Relaxation and stress relief, Uplifting and mo...</td>\n",
       "      <td>Workout session, leisure time</td>\n",
       "      <td>recommendations, Others</td>\n",
       "      <td>2</td>\n",
       "      <td>Several times a week</td>\n",
       "      <td>Comedy</td>\n",
       "      <td>Conversational</td>\n",
       "      <td>Both</td>\n",
       "      <td>Longer</td>\n",
       "      <td>Satisfied</td>\n",
       "    </tr>\n",
       "    <tr>\n",
       "      <th>519</th>\n",
       "      <td>20-35</td>\n",
       "      <td>Female</td>\n",
       "      <td>More than 2 years</td>\n",
       "      <td>Smartphone, Computer or laptop</td>\n",
       "      <td>Premium (paid subscription)</td>\n",
       "      <td>Yes</td>\n",
       "      <td>Student Plan-Rs 59/month</td>\n",
       "      <td>Music</td>\n",
       "      <td>Pop</td>\n",
       "      <td>Night</td>\n",
       "      <td>Relaxation and stress relief, Sadness or melan...</td>\n",
       "      <td>Office hours,Study Hours, While Traveling, lei...</td>\n",
       "      <td>Playlists, Radio</td>\n",
       "      <td>3</td>\n",
       "      <td>Never</td>\n",
       "      <td>NaN</td>\n",
       "      <td>NaN</td>\n",
       "      <td>NaN</td>\n",
       "      <td>NaN</td>\n",
       "      <td>Ok</td>\n",
       "    </tr>\n",
       "  </tbody>\n",
       "</table>\n",
       "</div>"
      ],
      "text/plain": [
       "       Age  Gender spotify_usage_period  \\\n",
       "515  20-35  Female    More than 2 years   \n",
       "516  20-35  Female    More than 2 years   \n",
       "517  20-35  Female    More than 2 years   \n",
       "518  20-35  Female   6 months to 1 year   \n",
       "519  20-35  Female    More than 2 years   \n",
       "\n",
       "                             spotify_listening_device  \\\n",
       "515  Smartphone, Computer or laptop, Wearable devices   \n",
       "516                    Smartphone, Computer or laptop   \n",
       "517                                        Smartphone   \n",
       "518                                        Smartphone   \n",
       "519                    Smartphone, Computer or laptop   \n",
       "\n",
       "       spotify_subscription_plan premium_sub_willingness  \\\n",
       "515          Free (ad-supported)                     Yes   \n",
       "516          Free (ad-supported)                     Yes   \n",
       "517          Free (ad-supported)                      No   \n",
       "518  Premium (paid subscription)                     Yes   \n",
       "519  Premium (paid subscription)                     Yes   \n",
       "\n",
       "             preffered_premium_plan preferred_listening_content  \\\n",
       "515        Student Plan-Rs 59/month                       Music   \n",
       "516        Student Plan-Rs 59/month                       Music   \n",
       "517        Student Plan-Rs 59/month                       Music   \n",
       "518  Individual Plan- Rs 119/ month                       Music   \n",
       "519        Student Plan-Rs 59/month                       Music   \n",
       "\n",
       "    fav_music_genre music_time_slot  \\\n",
       "515             Pop         Morning   \n",
       "516             Pop           Night   \n",
       "517             Pop           Night   \n",
       "518          Melody           Night   \n",
       "519             Pop           Night   \n",
       "\n",
       "                                music_Influencial_mood  \\\n",
       "515  Uplifting and motivational, Sadness or melancholy   \n",
       "516  Relaxation and stress relief, Uplifting and mo...   \n",
       "517                       Relaxation and stress relief   \n",
       "518  Relaxation and stress relief, Uplifting and mo...   \n",
       "519  Relaxation and stress relief, Sadness or melan...   \n",
       "\n",
       "                                   music_lis_frequency  \\\n",
       "515                                    While Traveling   \n",
       "516     While Traveling, Workout session, leisure time   \n",
       "517                                       leisure time   \n",
       "518                      Workout session, leisure time   \n",
       "519  Office hours,Study Hours, While Traveling, lei...   \n",
       "\n",
       "           music_expl_method  music_recc_rating     pod_lis_frequency  \\\n",
       "515          recommendations                  5                Rarely   \n",
       "516                   Others                  2                Rarely   \n",
       "517          recommendations                  3                 Never   \n",
       "518  recommendations, Others                  2  Several times a week   \n",
       "519         Playlists, Radio                  3                 Never   \n",
       "\n",
       "            fav_pod_genre preffered_pod_format pod_host_preference  \\\n",
       "515  Lifestyle and Health       Conversational                Both   \n",
       "516                Comedy        Story telling                Both   \n",
       "517                   NaN        Story telling                Both   \n",
       "518                Comedy       Conversational                Both   \n",
       "519                   NaN                  NaN                 NaN   \n",
       "\n",
       "    preffered_pod_duration pod_variety_satisfaction  \n",
       "515                Shorter                       Ok  \n",
       "516                Shorter                       Ok  \n",
       "517                Shorter                       Ok  \n",
       "518                 Longer                Satisfied  \n",
       "519                    NaN                       Ok  "
      ]
     },
     "execution_count": 6,
     "metadata": {},
     "output_type": "execute_result"
    }
   ],
   "source": [
    "df.tail()"
   ]
  },
  {
   "cell_type": "code",
   "execution_count": 7,
   "id": "be7052de-079c-4998-b3ee-3538fe353ace",
   "metadata": {},
   "outputs": [
    {
     "data": {
      "text/plain": [
       "(520, 20)"
      ]
     },
     "execution_count": 7,
     "metadata": {},
     "output_type": "execute_result"
    }
   ],
   "source": [
    "df.shape"
   ]
  },
  {
   "cell_type": "code",
   "execution_count": 8,
   "id": "1f2f1a03-f8fa-44e4-b449-53f9e8f5cfc7",
   "metadata": {},
   "outputs": [
    {
     "data": {
      "text/html": [
       "<div>\n",
       "<style scoped>\n",
       "    .dataframe tbody tr th:only-of-type {\n",
       "        vertical-align: middle;\n",
       "    }\n",
       "\n",
       "    .dataframe tbody tr th {\n",
       "        vertical-align: top;\n",
       "    }\n",
       "\n",
       "    .dataframe thead th {\n",
       "        text-align: right;\n",
       "    }\n",
       "</style>\n",
       "<table border=\"1\" class=\"dataframe\">\n",
       "  <thead>\n",
       "    <tr style=\"text-align: right;\">\n",
       "      <th></th>\n",
       "      <th>music_recc_rating</th>\n",
       "    </tr>\n",
       "  </thead>\n",
       "  <tbody>\n",
       "    <tr>\n",
       "      <th>count</th>\n",
       "      <td>520.000000</td>\n",
       "    </tr>\n",
       "    <tr>\n",
       "      <th>mean</th>\n",
       "      <td>3.503846</td>\n",
       "    </tr>\n",
       "    <tr>\n",
       "      <th>std</th>\n",
       "      <td>0.979552</td>\n",
       "    </tr>\n",
       "    <tr>\n",
       "      <th>min</th>\n",
       "      <td>1.000000</td>\n",
       "    </tr>\n",
       "    <tr>\n",
       "      <th>25%</th>\n",
       "      <td>3.000000</td>\n",
       "    </tr>\n",
       "    <tr>\n",
       "      <th>50%</th>\n",
       "      <td>3.500000</td>\n",
       "    </tr>\n",
       "    <tr>\n",
       "      <th>75%</th>\n",
       "      <td>4.000000</td>\n",
       "    </tr>\n",
       "    <tr>\n",
       "      <th>max</th>\n",
       "      <td>5.000000</td>\n",
       "    </tr>\n",
       "  </tbody>\n",
       "</table>\n",
       "</div>"
      ],
      "text/plain": [
       "       music_recc_rating\n",
       "count         520.000000\n",
       "mean            3.503846\n",
       "std             0.979552\n",
       "min             1.000000\n",
       "25%             3.000000\n",
       "50%             3.500000\n",
       "75%             4.000000\n",
       "max             5.000000"
      ]
     },
     "execution_count": 8,
     "metadata": {},
     "output_type": "execute_result"
    }
   ],
   "source": [
    "df.describe()"
   ]
  },
  {
   "cell_type": "code",
   "execution_count": 9,
   "id": "f28bd79a-a430-4609-9864-55ad01243190",
   "metadata": {},
   "outputs": [
    {
     "data": {
      "text/plain": [
       "Age                              0\n",
       "Gender                           0\n",
       "spotify_usage_period             0\n",
       "spotify_listening_device         0\n",
       "spotify_subscription_plan        0\n",
       "premium_sub_willingness          0\n",
       "preffered_premium_plan         208\n",
       "preferred_listening_content      0\n",
       "fav_music_genre                  0\n",
       "music_time_slot                  0\n",
       "music_Influencial_mood           0\n",
       "music_lis_frequency              0\n",
       "music_expl_method                0\n",
       "music_recc_rating                0\n",
       "pod_lis_frequency                0\n",
       "fav_pod_genre                  148\n",
       "preffered_pod_format           140\n",
       "pod_host_preference            141\n",
       "preffered_pod_duration         129\n",
       "pod_variety_satisfaction         0\n",
       "dtype: int64"
      ]
     },
     "execution_count": 9,
     "metadata": {},
     "output_type": "execute_result"
    }
   ],
   "source": [
    "df.isnull().sum()"
   ]
  },
  {
   "cell_type": "markdown",
   "id": "8a94fd20-8fe9-49e1-84c8-0da7bb919adc",
   "metadata": {},
   "source": [
    "### EDA "
   ]
  },
  {
   "cell_type": "code",
   "execution_count": 11,
   "id": "7276b173-12aa-4b38-ac72-b3564cc40016",
   "metadata": {},
   "outputs": [
    {
     "data": {
      "image/png": "[encoded data removed]",
      "text/plain": [
       "<Figure size 640x480 with 1 Axes>"
      ]
     },
     "metadata": {},
     "output_type": "display_data"
    }
   ],
   "source": [
    "custom_colors = ['#FF9999', '#66B3FF', '#99FF99', '#FFCC99'] \n",
    "sns.countplot(x='spotify_subscription_plan', data=df , palette=custom_colors)\n",
    "plt.title(\"Subscription Plan Distribution\")\n",
    "plt.show()"
   ]
  },
  {
   "cell_type": "code",
   "execution_count": 12,
   "id": "5f560744-daef-4ef8-865e-664788754e46",
   "metadata": {},
   "outputs": [
    {
     "data": {
      "image/png": "[encoded data removed]",
      "text/plain": [
       "<Figure size 800x800 with 1 Axes>"
      ]
     },
     "metadata": {},
     "output_type": "display_data"
    }
   ],
   "source": [
    "custom_colors = ['#66b3ff', '#ffcc99', '#ff9999']  \n",
    "plt.figure(figsize=(8, 8))\n",
    "df['premium_sub_willingness'].value_counts().plot.pie(\n",
    "    autopct='%1.1f%%',\n",
    "    colors=custom_colors\n",
    ")\n",
    "plt.title('Premium Subscription Willingness')\n",
    "plt.ylabel('') \n",
    "plt.show()"
   ]
  },
  {
   "cell_type": "markdown",
   "id": "d51de369-f746-46d0-bd46-a933b17b245f",
   "metadata": {},
   "source": [
    "### Data Cleaning "
   ]
  },
  {
   "cell_type": "code",
   "execution_count": 14,
   "id": "aedabd94-8bda-4215-a610-231e5897975d",
   "metadata": {},
   "outputs": [],
   "source": [
    "# Feature Engineering / Cleaning for Churn Inference\n",
    "# Convert 'Age' ranges to numerical midpoints\n",
    "def convert_age_to_numeric(age_range):\n",
    "    if isinstance(age_range, str):\n",
    "        if '-' in age_range:\n",
    "            parts = age_range.split('-')\n",
    "            return (int(parts[0]) + int(parts[1])) / 2\n",
    "        elif '+' in age_range:\n",
    "            return int(age_range.replace('+', '')) + 5\n",
    "        else:\n",
    "            return np.nan # Handle unexpected formats\n",
    "    return age_range"
   ]
  },
  {
   "cell_type": "code",
   "execution_count": 15,
   "id": "e620add4-4ce2-4615-a283-20f64c540f84",
   "metadata": {},
   "outputs": [],
   "source": [
    "df['Age_Numeric'] = df['Age'].apply(convert_age_to_numeric)\n",
    "# Fill any NaN in Age_Numeric with the mean or median \n",
    "df['Age_Numeric'] = df['Age_Numeric'].fillna(df['Age_Numeric'].mean())"
   ]
  },
  {
   "cell_type": "code",
   "execution_count": 16,
   "id": "a47e7f39-7080-4bb9-bfc2-2f6eddc9879d",
   "metadata": {},
   "outputs": [],
   "source": [
    "# Convert music_recc_rating to numeric, coercing errors to NaN and filling with 0\n",
    "df['music_recc_rating'] = pd.to_numeric(df['music_recc_rating'], errors='coerce').fillna(0)"
   ]
  },
  {
   "cell_type": "code",
   "execution_count": 17,
   "id": "623b0c83-6543-4bae-976a-6af43c762b99",
   "metadata": {},
   "outputs": [],
   "source": [
    "# Infer 'Churn' column based on Spotify-specific indicators\n",
    "# Initialize Churn column to 0 (No Churn)\n",
    "df['Churn'] = 0"
   ]
  },
  {
   "cell_type": "code",
   "execution_count": 18,
   "id": "7d613b8b-59be-47f3-bc78-cbf1a92d449b",
   "metadata": {},
   "outputs": [
    {
     "name": "stdout",
     "output_type": "stream",
     "text": [
      "\n",
      "'Churn' column created. Churn distribution:\n",
      "Churn\n",
      "0    338\n",
      "1    182\n",
      "Name: count, dtype: int64\n",
      "Churn percentage: 35.00%\n"
     ]
    }
   ],
   "source": [
    "# Short usage period on free plan\n",
    "df.loc[(df['spotify_usage_period'] == 'Less than 6 months') &\n",
    "       (df['spotify_subscription_plan'] == 'Free (ad-supported)'), 'Churn'] = 1\n",
    "\n",
    "# Unwilling to pay AND free plan AND very low engagement\n",
    "df.loc[(df['premium_sub_willingness'] == 'No') &\n",
    "       (df['spotify_subscription_plan'] == 'Free (ad-supported)') &\n",
    "       ((df['music_lis_frequency'] == 'Never') | (df['pod_lis_frequency'] == 'Never')), 'Churn'] = 1\n",
    "\n",
    "# Explicit dissatisfaction with podcast variety\n",
    "df.loc[(df['pod_variety_satisfaction'] == 'Very Dissatisfied') |\n",
    "       (df['pod_variety_satisfaction'] == 'Dissatisfied'), 'Churn'] = 1\n",
    "\n",
    "# Very low music recommendation rating\n",
    "df.loc[df['music_recc_rating'] == 1, 'Churn'] = 1\n",
    "\n",
    "\n",
    "print(\"\\n'Churn' column created. Churn distribution:\")\n",
    "print(df['Churn'].value_counts())\n",
    "print(f\"Churn percentage: {df['Churn'].value_counts(normalize=True)[1]*100:.2f}%\")"
   ]
  },
  {
   "cell_type": "code",
   "execution_count": 19,
   "id": "05817b69-59da-4c8f-9d15-f08cf21026ef",
   "metadata": {},
   "outputs": [
    {
     "name": "stdout",
     "output_type": "stream",
     "text": [
      "\n",
      "Categorical features: ['Gender', 'spotify_usage_period', 'spotify_listening_device', 'spotify_subscription_plan', 'premium_sub_willingness', 'preffered_premium_plan', 'preferred_listening_content', 'fav_music_genre', 'music_time_slot', 'music_Influencial_mood', 'music_lis_frequency', 'music_expl_method', 'pod_lis_frequency', 'fav_pod_genre', 'preffered_pod_format', 'pod_host_preference', 'preffered_pod_duration', 'pod_variety_satisfaction']\n",
      "Numerical features: ['Age_Numeric', 'music_recc_rating']\n"
     ]
    }
   ],
   "source": [
    "# Separate target variable (y) from features (X)\n",
    "# Drop original 'Age' column \n",
    "X = df.drop(['Age', 'Churn'], axis=1) # Drop 'Age' and 'Churn'\n",
    "y = df['Churn']\n",
    "\n",
    "# Identify categorical and numerical features for the Spotify dataset\n",
    "numerical_features = ['Age_Numeric', 'music_recc_rating']\n",
    "categorical_features = X.select_dtypes(include=['object']).columns.tolist()\n",
    "\n",
    "print(f\"\\nCategorical features: {categorical_features}\")\n",
    "print(f\"Numerical features: {numerical_features}\")"
   ]
  },
  {
   "cell_type": "markdown",
   "id": "85b2df59-c555-42c6-b6db-5da0ccf45fff",
   "metadata": {},
   "source": [
    "### Data Preprocessing"
   ]
  },
  {
   "cell_type": "code",
   "execution_count": 21,
   "id": "4eb414ba-403d-4172-95c9-5af6ee80725d",
   "metadata": {},
   "outputs": [],
   "source": [
    "# preprocessing pipelines for numerical and categorical features\n",
    "numerical_transformer = StandardScaler()\n",
    "categorical_transformer = OneHotEncoder(handle_unknown='ignore')\n",
    "\n",
    "# preprocessor using ColumnTransformer\n",
    "preprocessor = ColumnTransformer(\n",
    "    transformers=[\n",
    "        ('num', numerical_transformer, numerical_features),\n",
    "        ('cat', categorical_transformer, categorical_features)\n",
    "    ])"
   ]
  },
  {
   "cell_type": "markdown",
   "id": "bc9df5ce-d9c5-494b-8915-ed5c35163222",
   "metadata": {},
   "source": [
    "### Train Test Split"
   ]
  },
  {
   "cell_type": "code",
   "execution_count": 23,
   "id": "c88fe418-6485-4675-b286-1a901b3d2dd7",
   "metadata": {},
   "outputs": [
    {
     "name": "stdout",
     "output_type": "stream",
     "text": [
      "Splitting data into training and testing sets...\n",
      "X_train shape: (416, 20), y_train shape: (416,)\n",
      "X_test shape: (104, 20), y_test shape: (104,)\n"
     ]
    }
   ],
   "source": [
    "# Train-Test Split\n",
    "print(\"Splitting data into training and testing sets...\")\n",
    "X_train, X_test, y_train, y_test = train_test_split(X, y, test_size=0.2, random_state=42, stratify=y)\n",
    "print(f\"X_train shape: {X_train.shape}, y_train shape: {y_train.shape}\")\n",
    "print(f\"X_test shape: {X_test.shape}, y_test shape: {y_test.shape}\")"
   ]
  },
  {
   "cell_type": "markdown",
   "id": "c9eec819-a273-4022-a4a7-c33140cd238d",
   "metadata": {},
   "source": [
    "### Defining Models "
   ]
  },
  {
   "cell_type": "code",
   "execution_count": 25,
   "id": "e94d9ddc-40e5-435a-be3b-0b884afddfd2",
   "metadata": {},
   "outputs": [],
   "source": [
    "models = {\n",
    "    'Decision Tree': DecisionTreeClassifier(random_state=42),\n",
    "    'Random Forest': RandomForestClassifier(random_state=42, n_estimators=100),\n",
    "    'XGBoost': xgb.XGBClassifier(random_state=42, use_label_encoder=False, eval_metric='logloss')\n",
    "}"
   ]
  },
  {
   "cell_type": "markdown",
   "id": "b552cccb-4359-4d0d-9af0-153fdfe7e35c",
   "metadata": {},
   "source": [
    "### Model Training and Evaluation "
   ]
  },
  {
   "cell_type": "code",
   "execution_count": 27,
   "id": "b284c8f4-4f96-4b2d-90e7-064ead9d8860",
   "metadata": {},
   "outputs": [
    {
     "name": "stdout",
     "output_type": "stream",
     "text": [
      "\n",
      "--- Training Decision Tree ---\n",
      "\n",
      "--- Training Random Forest ---\n",
      "\n",
      "--- Training XGBoost ---\n"
     ]
    }
   ],
   "source": [
    "# StratifiedKFold for cross-validation to maintain class distribution\n",
    "cv = StratifiedKFold(n_splits=5, shuffle=True, random_state=42)\n",
    "\n",
    "results = {}\n",
    "\n",
    "for name, model in models.items():\n",
    "    print(f\"\\n--- Training {name} ---\")\n",
    "\n",
    "    # pipeline that includes preprocessing, SMOTE, and the classifier\n",
    "    # Using ImbPipeline from imblearn to correctly handle SMOTE within the pipeline\n",
    "    pipeline = ImbPipeline(steps=[\n",
    "        ('preprocessor', preprocessor),\n",
    "        ('smote', SMOTE(random_state=42)), # SMOTE to balance the training data\n",
    "        ('classifier', model)\n",
    "    ])\n",
    "\n",
    "    # Train the pipeline\n",
    "    pipeline.fit(X_train, y_train)"
   ]
  },
  {
   "cell_type": "code",
   "execution_count": 28,
   "id": "86f4e1c2-fdab-4f83-9a44-01d66f49799e",
   "metadata": {},
   "outputs": [
    {
     "name": "stdout",
     "output_type": "stream",
     "text": [
      "Model saved as xgboost_churn_model.pkl\n"
     ]
    }
   ],
   "source": [
    "# Save the trained pipeline using pickle\n",
    "model_filename = f'{name.lower().replace(\" \", \"_\")}_churn_model.pkl'\n",
    "with open(model_filename, 'wb') as f:\n",
    "    pickle.dump(pipeline, f)\n",
    "print(f\"Model saved as {model_filename}\")"
   ]
  },
  {
   "cell_type": "code",
   "execution_count": 29,
   "id": "8cd67c62-aed2-4d53-abd8-182977068356",
   "metadata": {},
   "outputs": [],
   "source": [
    "# Make predictions\n",
    "y_pred = pipeline.predict(X_test)\n",
    "y_proba = pipeline.predict_proba(X_test)[:, 1]"
   ]
  },
  {
   "cell_type": "code",
   "execution_count": 30,
   "id": "f61d7db0-e126-49eb-8096-2c616c62f219",
   "metadata": {},
   "outputs": [
    {
     "name": "stdout",
     "output_type": "stream",
     "text": [
      "\n",
      "XGBoost Classification Report:\n",
      "               precision    recall  f1-score   support\n",
      "\n",
      "           0       0.99      1.00      0.99        68\n",
      "           1       1.00      0.97      0.99        36\n",
      "\n",
      "    accuracy                           0.99       104\n",
      "   macro avg       0.99      0.99      0.99       104\n",
      "weighted avg       0.99      0.99      0.99       104\n",
      "\n",
      "\n",
      "XGBoost Confusion Matrix:\n",
      " [[68  0]\n",
      " [ 1 35]]\n",
      "\n",
      "XGBoost ROC AUC Score: 1.0000\n"
     ]
    }
   ],
   "source": [
    "# Evaluate the model\n",
    "print(f\"\\n{name} Classification Report:\\n\", classification_report(y_test, y_pred))\n",
    "print(f\"\\n{name} Confusion Matrix:\\n\", confusion_matrix(y_test, y_pred))\n",
    "roc_auc = roc_auc_score(y_test, y_proba)\n",
    "print(f\"\\n{name} ROC AUC Score: {roc_auc:.4f}\")"
   ]
  },
  {
   "cell_type": "code",
   "execution_count": 31,
   "id": "bd79f90f-c64f-4ddd-81e9-ab597ea105e5",
   "metadata": {},
   "outputs": [
    {
     "name": "stdout",
     "output_type": "stream",
     "text": [
      "\n",
      "Performing 5-fold Stratified Cross-Validation for XGBoost...\n",
      "Cross-Validation ROC AUC Scores: [1.         0.9995915  0.98488562 1.         1.        ]\n",
      "Mean CV ROC AUC: 0.9969 (+/- 0.0060)\n"
     ]
    }
   ],
   "source": [
    "results[name] = {\n",
    "    'report': classification_report(y_test, y_pred, output_dict=True),\n",
    "    'confusion_matrix': confusion_matrix(y_test, y_pred),\n",
    "    'roc_auc': roc_auc,\n",
    "    'y_pred': y_pred,\n",
    "    'y_proba': y_proba\n",
    "}\n",
    "\n",
    "    # Cross-validation for robust evaluation\n",
    "print(f\"\\nPerforming 5-fold Stratified Cross-Validation for {name}...\")\n",
    "cv_scores = cross_val_score(pipeline, X, y, cv=cv, scoring='roc_auc', n_jobs=-1)\n",
    "print(f\"Cross-Validation ROC AUC Scores: {cv_scores}\")\n",
    "print(f\"Mean CV ROC AUC: {np.mean(cv_scores):.4f} (+/- {np.std(cv_scores):.4f})\")"
   ]
  },
  {
   "cell_type": "code",
   "execution_count": 32,
   "id": "e384761e-e79f-4f1e-a0b1-ee2fe769517a",
   "metadata": {},
   "outputs": [
    {
     "data": {
      "image/png": "[encoded data removed]",
      "text/plain": [
       "<Figure size 800x600 with 1 Axes>"
      ]
     },
     "metadata": {},
     "output_type": "display_data"
    }
   ],
   "source": [
    "# Plot ROC Curve\n",
    "fpr, tpr, _ = roc_curve(y_test, y_proba)\n",
    "plt.figure(figsize=(8, 6))\n",
    "plt.plot(fpr, tpr, label=f'{name} (AUC = {roc_auc:.2f})')\n",
    "plt.plot([0, 1], [0, 1], 'k--', label='Random Classifier')\n",
    "plt.xlabel('False Positive Rate')\n",
    "plt.ylabel('True Positive Rate')\n",
    "plt.title(f'ROC Curve for {name}')\n",
    "plt.legend()\n",
    "plt.grid(True)\n",
    "plt.show()\n"
   ]
  },
  {
   "cell_type": "code",
   "execution_count": 33,
   "id": "34e25017-a4f2-473c-a053-c4c7d911347e",
   "metadata": {},
   "outputs": [
    {
     "name": "stdout",
     "output_type": "stream",
     "text": [
      " Model Training and Evaluation Complete\n"
     ]
    }
   ],
   "source": [
    "print(\" Model Training and Evaluation Complete\")"
   ]
  },
  {
   "cell_type": "markdown",
   "id": "cd459a64-f267-46dd-a3ef-864522675f77",
   "metadata": {},
   "source": [
    "### Exporting Data for Power BI "
   ]
  },
  {
   "cell_type": "code",
   "execution_count": 35,
   "id": "6458a158-5f15-43b1-b3a9-97a04f6492b0",
   "metadata": {},
   "outputs": [
    {
     "name": "stdout",
     "output_type": "stream",
     "text": [
      "Prediction results saved to spotify_churn_predictions.csv\n"
     ]
    }
   ],
   "source": [
    "results_df = X_test.copy()\n",
    "results_df['Actual_Churn'] = y_test\n",
    "results_df['Predicted_Churn'] = y_pred\n",
    "results_df['Churn_Probability'] = y_proba\n",
    "\n",
    "# Export the DataFrame to a CSV file\n",
    "output_csv_filename = 'spotify_churn_predictions.csv'\n",
    "results_df.to_csv(output_csv_filename, index=False)\n",
    "\n",
    "print(f\"Prediction results saved to {output_csv_filename}\")"
   ]
  }
 ],
 "metadata": {
  "kernelspec": {
   "display_name": "Python 3 (ipykernel)",
   "language": "python",
   "name": "python3"
  },
  "language_info": {
   "codemirror_mode": {
    "name": "ipython",
    "version": 3
   },
   "file_extension": ".py",
   "mimetype": "text/x-python",
   "name": "python",
   "nbconvert_exporter": "python",
   "pygments_lexer": "ipython3",
   "version": "3.12.3"
  }
 },
 "nbformat": 4,
 "nbformat_minor": 5
}
